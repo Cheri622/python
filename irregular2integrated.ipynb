{
 "cells": [
  {
   "cell_type": "code",
   "execution_count": null,
   "metadata": {},
   "outputs": [],
   "source": [
    "#Author: Cheri Chen\n",
    "#Data collected at irregular time points are integrated into hourly data"
   ]
  },
  {
   "cell_type": "code",
   "execution_count": 2,
   "metadata": {},
   "outputs": [],
   "source": [
    "from datetime import *\n",
    "import pandas as pd\n",
    "\n",
    "#Pandas is a data analysis lib of python. It was open sourced at the end of 2009. \n",
    "#It provides a high-performance and easy-to-use data format (Data Frame) for users \n",
    "#to quickly manipulate and analyze data.\n",
    "\n",
    "df = pd.read_excel(\"src.xlsx\")\n",
    "\n",
    "datelist = []\n",
    "hourlist = []\n",
    "for dt in df['datetime']:\n",
    "    #t1 = datetime.strptime('Wed Jun 01 12:53:42 +0000 2011','%a %b %d %H:%M:%S +0000 %Y'\n",
    "    t1 = pd.to_datetime(dt, format='%Y-%b-%d %H:%M:%S')\n",
    "    d1 = t1.date() #get date\n",
    "    h1 = t1.hour   #get hour  \n",
    "    datelist.append(d1)\n",
    "    hourlist.append(h1)\n",
    "        \n",
    "df['date'] = datelist\n",
    "df['hour'] = hourlist \n",
    "        \n",
    "#Lambda function, that is, anonymous function, does not need to define the name, only one line of expression, \n",
    "#the syntax is very concise and powerful\n",
    "\n",
    "df['sv'] = df['amount'].apply(lambda x: 0.0 if (type(x).__name__ != 'float' and type(x).__name__ != 'int') else x)\n",
    "#Refer to: z['c'] = z.apply(lambda row: 0 if row['b'] in (0,1) else row['a'] / math.log(row['b']), axis=1)\n",
    "\n",
    "df3 = df.groupby(['date','hour']).sum()  #sum amount value\n",
    "      \n",
    "df3  #need to fill missing hour 1-24\n",
    "u = df3.groupby('date').apply(lambda x: range(1,25)).explode()\n",
    "\n",
    "out = df3.reindex(u.reset_index().to_numpy(),fill_value=0).reset_index()\n",
    "     \n",
    "out['date'] = out['date'].apply(lambda x: x.date())  #remove time\n",
    "\n",
    "out.to_excel('test1_output.xlsx')"
   ]
  },
  {
   "cell_type": "code",
   "execution_count": null,
   "metadata": {},
   "outputs": [],
   "source": []
  },
  {
   "cell_type": "code",
   "execution_count": null,
   "metadata": {},
   "outputs": [],
   "source": []
  },
  {
   "cell_type": "code",
   "execution_count": null,
   "metadata": {},
   "outputs": [],
   "source": []
  }
 ],
 "metadata": {
  "kernelspec": {
   "display_name": "Python 3",
   "language": "python",
   "name": "python3"
  },
  "language_info": {
   "codemirror_mode": {
    "name": "ipython",
    "version": 3
   },
   "file_extension": ".py",
   "mimetype": "text/x-python",
   "name": "python",
   "nbconvert_exporter": "python",
   "pygments_lexer": "ipython3",
   "version": "3.8.8"
  }
 },
 "nbformat": 4,
 "nbformat_minor": 4
}
